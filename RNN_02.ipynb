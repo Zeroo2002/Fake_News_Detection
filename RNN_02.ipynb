{
  "cells": [
    {
      "cell_type": "markdown",
      "metadata": {
        "id": "8mb57ZuLRXTt"
      },
      "source": [
        "**Mounting Drive**"
      ]
    },
    {
      "cell_type": "code",
      "execution_count": null,
      "metadata": {
        "colab": {
          "base_uri": "https://localhost:8080/"
        },
        "id": "WvJrvxlbRHlo",
        "outputId": "dc896765-f1f6-48c8-e949-627b42f22b1a"
      },
      "outputs": [
        {
          "output_type": "stream",
          "name": "stdout",
          "text": [
            "Mounted at /content/drive\n"
          ]
        }
      ],
      "source": [
        "from google.colab import drive\n",
        "drive.mount('/content/drive')"
      ]
    },
    {
      "cell_type": "markdown",
      "metadata": {
        "id": "Tu3vnMoBRcCO"
      },
      "source": [
        "**Reading and printing the dataset**"
      ]
    },
    {
      "cell_type": "code",
      "execution_count": null,
      "metadata": {
        "colab": {
          "base_uri": "https://localhost:8080/"
        },
        "id": "7MC935UkRg2M",
        "outputId": "0c92f4f0-4bc0-48c4-dcc5-10f011a3df70"
      },
      "outputs": [
        {
          "output_type": "stream",
          "name": "stdout",
          "text": [
            "                                               title  \\\n",
            "0   Donald Trump Sends Out Embarrassing New Year’...   \n",
            "1   Drunk Bragging Trump Staffer Started Russian ...   \n",
            "2   Sheriff David Clarke Becomes An Internet Joke...   \n",
            "3   Trump Is So Obsessed He Even Has Obama’s Name...   \n",
            "4   Pope Francis Just Called Out Donald Trump Dur...   \n",
            "\n",
            "                                                text subject  \\\n",
            "0  Donald Trump just couldn t wish all Americans ...    News   \n",
            "1  House Intelligence Committee Chairman Devin Nu...    News   \n",
            "2  On Friday, it was revealed that former Milwauk...    News   \n",
            "3  On Christmas day, Donald Trump announced that ...    News   \n",
            "4  Pope Francis used his annual Christmas Day mes...    News   \n",
            "\n",
            "                date  class  \n",
            "0  December 31, 2017      0  \n",
            "1  December 31, 2017      0  \n",
            "2  December 30, 2017      0  \n",
            "3  December 29, 2017      0  \n",
            "4  December 25, 2017      0  \n"
          ]
        }
      ],
      "source": [
        "import pandas as pd\n",
        "import seaborn as sns\n",
        "import matplotlib.pyplot as plt\n",
        "\n",
        "News= pd.read_csv('/content/drive/MyDrive/ML Project/News (1).csv', index_col=0)\n",
        "\n",
        "print(News.head(5))"
      ]
    },
    {
      "cell_type": "markdown",
      "metadata": {
        "id": "lSJPjE5aTdvC"
      },
      "source": [
        "**Shape of the DATA**"
      ]
    },
    {
      "cell_type": "code",
      "execution_count": null,
      "metadata": {
        "colab": {
          "base_uri": "https://localhost:8080/"
        },
        "id": "RFGqyguXTg7Z",
        "outputId": "785d42fb-1305-4a75-fe97-fc31dcbdd158"
      },
      "outputs": [
        {
          "output_type": "execute_result",
          "data": {
            "text/plain": [
              "(44919, 5)"
            ]
          },
          "metadata": {},
          "execution_count": 4
        }
      ],
      "source": [
        "News.shape"
      ]
    },
    {
      "cell_type": "markdown",
      "metadata": {
        "id": "HSFFILAlTxTv"
      },
      "source": [
        "**Finding and filling the null values**"
      ]
    },
    {
      "cell_type": "code",
      "source": [
        "News.isnull().sum()"
      ],
      "metadata": {
        "colab": {
          "base_uri": "https://localhost:8080/"
        },
        "id": "kf0nHj5TXnlx",
        "outputId": "5826b117-3218-4ebc-b669-d9130f2e59a5"
      },
      "execution_count": null,
      "outputs": [
        {
          "output_type": "execute_result",
          "data": {
            "text/plain": [
              "title       0\n",
              "text        0\n",
              "subject    21\n",
              "date       21\n",
              "class       0\n",
              "dtype: int64"
            ]
          },
          "metadata": {},
          "execution_count": 5
        }
      ]
    },
    {
      "cell_type": "code",
      "execution_count": null,
      "metadata": {
        "colab": {
          "base_uri": "https://localhost:8080/"
        },
        "id": "vM3QT0omVqwE",
        "outputId": "a2aeace9-b965-44c3-fe4d-eb024f6f941d"
      },
      "outputs": [
        {
          "output_type": "execute_result",
          "data": {
            "text/plain": [
              "title      0\n",
              "text       0\n",
              "subject    0\n",
              "date       0\n",
              "class      0\n",
              "dtype: int64"
            ]
          },
          "metadata": {},
          "execution_count": 6
        }
      ],
      "source": [
        "news = News.fillna(' ')\n",
        "news.isnull().sum()\n",
        "# print(News[text])"
      ]
    },
    {
      "cell_type": "markdown",
      "metadata": {
        "id": "ZvLU5YMGL_fR"
      },
      "source": [
        "**Rearranging the data**"
      ]
    },
    {
      "cell_type": "code",
      "source": [
        "news['news']=news['title']+news['text']\n",
        "\n",
        "news=news[['subject', 'date', 'news', 'class']]\n",
        "print(news)"
      ],
      "metadata": {
        "colab": {
          "base_uri": "https://localhost:8080/"
        },
        "id": "UILdLFoaScGL",
        "outputId": "1765c295-03f0-46ec-c3a1-fcbb7d899514"
      },
      "execution_count": null,
      "outputs": [
        {
          "output_type": "stream",
          "name": "stdout",
          "text": [
            "         subject               date  \\\n",
            "0           News  December 31, 2017   \n",
            "1           News  December 31, 2017   \n",
            "2           News  December 30, 2017   \n",
            "3           News  December 29, 2017   \n",
            "4           News  December 25, 2017   \n",
            "...          ...                ...   \n",
            "21412  worldnews   August 22, 2017    \n",
            "21413  worldnews   August 22, 2017    \n",
            "21414  worldnews   August 22, 2017    \n",
            "21415  worldnews   August 22, 2017    \n",
            "21416  worldnews   August 22, 2017    \n",
            "\n",
            "                                                    news  class  \n",
            "0       Donald Trump Sends Out Embarrassing New Year’...      0  \n",
            "1       Drunk Bragging Trump Staffer Started Russian ...      0  \n",
            "2       Sheriff David Clarke Becomes An Internet Joke...      0  \n",
            "3       Trump Is So Obsessed He Even Has Obama’s Name...      0  \n",
            "4       Pope Francis Just Called Out Donald Trump Dur...      0  \n",
            "...                                                  ...    ...  \n",
            "21412  'Fully committed' NATO backs new U.S. approach...      1  \n",
            "21413  LexisNexis withdrew two products from Chinese ...      1  \n",
            "21414  Minsk cultural hub becomes haven from authorit...      1  \n",
            "21415  Vatican upbeat on possibility of Pope Francis ...      1  \n",
            "21416  Indonesia to buy $1.14 billion worth of Russia...      1  \n",
            "\n",
            "[44919 rows x 4 columns]\n"
          ]
        }
      ]
    },
    {
      "cell_type": "markdown",
      "source": [
        "**Shuffling**"
      ],
      "metadata": {
        "id": "MJtfyEdyaa1V"
      }
    },
    {
      "cell_type": "code",
      "source": [
        "#Shuffling\n",
        "\n",
        "news = news.sample(frac=1)\n",
        "news.reset_index(inplace=True)\n",
        "news.drop([\"index\"], axis=1, inplace=True)\n",
        "\n",
        "print(news.head())"
      ],
      "metadata": {
        "colab": {
          "base_uri": "https://localhost:8080/"
        },
        "id": "rjEvqBRvadE-",
        "outputId": "de394b90-55fa-404d-ebbe-5017cc48831d"
      },
      "execution_count": null,
      "outputs": [
        {
          "output_type": "stream",
          "name": "stdout",
          "text": [
            "        subject               date  \\\n",
            "0      politics        Nov 1, 2017   \n",
            "1  politicsNews   January 6, 2017    \n",
            "2          News  November 14, 2016   \n",
            "3          News   January 20, 2016   \n",
            "4          News      June 12, 2016   \n",
            "\n",
            "                                                news  class  \n",
            "0  Dem Lawmaker’s Epic Fake Panic Attack Over A S...      0  \n",
            "1  Anarchists threaten to disrupt Trump inaugurat...      1  \n",
            "2   Actress Emmy Rossum Fires Back At Trump Fans ...      0  \n",
            "3   GOP Strategist: Trump Supporters Are All ‘Cra...      0  \n",
            "4   Hillary Hits Trump And His So-Called ‘Univers...      0  \n"
          ]
        }
      ]
    },
    {
      "cell_type": "markdown",
      "metadata": {
        "id": "HJm11R7JVP7h"
      },
      "source": [
        "**Importing NLTK libraries**"
      ]
    },
    {
      "cell_type": "code",
      "execution_count": null,
      "metadata": {
        "colab": {
          "base_uri": "https://localhost:8080/"
        },
        "id": "sUpc8f-RXURW",
        "outputId": "a4d2cbcb-5543-4d86-b82a-719e9542bc4c"
      },
      "outputs": [
        {
          "output_type": "stream",
          "name": "stderr",
          "text": [
            "[nltk_data] Downloading package punkt to /root/nltk_data...\n",
            "[nltk_data]   Unzipping tokenizers/punkt.zip.\n",
            "[nltk_data] Downloading package stopwords to /root/nltk_data...\n",
            "[nltk_data]   Unzipping corpora/stopwords.zip.\n"
          ]
        }
      ],
      "source": [
        "from tqdm import tqdm\n",
        "import re\n",
        "import nltk\n",
        "nltk.download('punkt')\n",
        "nltk.download('stopwords')\n",
        "from nltk.corpus import stopwords\n",
        "from nltk.tokenize import word_tokenize\n",
        "from nltk.stem.porter import PorterStemmer\n",
        "\n",
        "ps = PorterStemmer()"
      ]
    },
    {
      "cell_type": "code",
      "source": [
        "clean_news=news.copy()"
      ],
      "metadata": {
        "id": "YPoOGfsGxJoK"
      },
      "execution_count": null,
      "outputs": []
    },
    {
      "cell_type": "markdown",
      "source": [
        "**Punctuation Cleaning**"
      ],
      "metadata": {
        "id": "QHIPDv2jxW8z"
      }
    },
    {
      "cell_type": "code",
      "source": [
        "import string\n",
        "\n",
        "def review_cleaning(text):\n",
        "    '''Make text lowercase, remove text in square brackets,remove links,remove punctuation\n",
        "    and remove words containing numbers.'''\n",
        "    text = str(text).lower()\n",
        "    text = re.sub('\\[.*?\\]', '', text)\n",
        "    text = re.sub('https?://\\S+|www\\.\\S+', '', text)\n",
        "    text = re.sub('<.*?>+', '', text)\n",
        "    text = re.sub('[%s]' % re.escape(string.punctuation), '', text)\n",
        "    text = re.sub('\\n', '', text)\n",
        "    text = re.sub('\\w*\\d\\w*', '', text)\n",
        "    return text"
      ],
      "metadata": {
        "id": "cVlu3wzLxbI7"
      },
      "execution_count": null,
      "outputs": []
    },
    {
      "cell_type": "code",
      "source": [
        "clean_news['news']=clean_news['news'].apply(lambda x:review_cleaning(x))\n",
        "clean_news.head()"
      ],
      "metadata": {
        "colab": {
          "base_uri": "https://localhost:8080/",
          "height": 206
        },
        "id": "kVAhvPSTxmgt",
        "outputId": "628b6b5e-b6a4-4a29-e74e-498f0ce67b1a"
      },
      "execution_count": null,
      "outputs": [
        {
          "output_type": "execute_result",
          "data": {
            "text/plain": [
              "        subject               date  \\\n",
              "0      politics        Nov 1, 2017   \n",
              "1  politicsNews   January 6, 2017    \n",
              "2          News  November 14, 2016   \n",
              "3          News   January 20, 2016   \n",
              "4          News      June 12, 2016   \n",
              "\n",
              "                                                news  class  \n",
              "0  dem lawmaker’s epic fake panic attack over a s...      0  \n",
              "1  anarchists threaten to disrupt trump inaugurat...      1  \n",
              "2   actress emmy rossum fires back at trump fans ...      0  \n",
              "3   gop strategist trump supporters are all ‘craz...      0  \n",
              "4   hillary hits trump and his socalled ‘universi...      0  "
            ],
            "text/html": [
              "\n",
              "\n",
              "  <div id=\"df-66ef7416-cdba-4036-a693-4611ccb56ced\">\n",
              "    <div class=\"colab-df-container\">\n",
              "      <div>\n",
              "<style scoped>\n",
              "    .dataframe tbody tr th:only-of-type {\n",
              "        vertical-align: middle;\n",
              "    }\n",
              "\n",
              "    .dataframe tbody tr th {\n",
              "        vertical-align: top;\n",
              "    }\n",
              "\n",
              "    .dataframe thead th {\n",
              "        text-align: right;\n",
              "    }\n",
              "</style>\n",
              "<table border=\"1\" class=\"dataframe\">\n",
              "  <thead>\n",
              "    <tr style=\"text-align: right;\">\n",
              "      <th></th>\n",
              "      <th>subject</th>\n",
              "      <th>date</th>\n",
              "      <th>news</th>\n",
              "      <th>class</th>\n",
              "    </tr>\n",
              "  </thead>\n",
              "  <tbody>\n",
              "    <tr>\n",
              "      <th>0</th>\n",
              "      <td>politics</td>\n",
              "      <td>Nov 1, 2017</td>\n",
              "      <td>dem lawmaker’s epic fake panic attack over a s...</td>\n",
              "      <td>0</td>\n",
              "    </tr>\n",
              "    <tr>\n",
              "      <th>1</th>\n",
              "      <td>politicsNews</td>\n",
              "      <td>January 6, 2017</td>\n",
              "      <td>anarchists threaten to disrupt trump inaugurat...</td>\n",
              "      <td>1</td>\n",
              "    </tr>\n",
              "    <tr>\n",
              "      <th>2</th>\n",
              "      <td>News</td>\n",
              "      <td>November 14, 2016</td>\n",
              "      <td>actress emmy rossum fires back at trump fans ...</td>\n",
              "      <td>0</td>\n",
              "    </tr>\n",
              "    <tr>\n",
              "      <th>3</th>\n",
              "      <td>News</td>\n",
              "      <td>January 20, 2016</td>\n",
              "      <td>gop strategist trump supporters are all ‘craz...</td>\n",
              "      <td>0</td>\n",
              "    </tr>\n",
              "    <tr>\n",
              "      <th>4</th>\n",
              "      <td>News</td>\n",
              "      <td>June 12, 2016</td>\n",
              "      <td>hillary hits trump and his socalled ‘universi...</td>\n",
              "      <td>0</td>\n",
              "    </tr>\n",
              "  </tbody>\n",
              "</table>\n",
              "</div>\n",
              "      <button class=\"colab-df-convert\" onclick=\"convertToInteractive('df-66ef7416-cdba-4036-a693-4611ccb56ced')\"\n",
              "              title=\"Convert this dataframe to an interactive table.\"\n",
              "              style=\"display:none;\">\n",
              "\n",
              "  <svg xmlns=\"http://www.w3.org/2000/svg\" height=\"24px\"viewBox=\"0 0 24 24\"\n",
              "       width=\"24px\">\n",
              "    <path d=\"M0 0h24v24H0V0z\" fill=\"none\"/>\n",
              "    <path d=\"M18.56 5.44l.94 2.06.94-2.06 2.06-.94-2.06-.94-.94-2.06-.94 2.06-2.06.94zm-11 1L8.5 8.5l.94-2.06 2.06-.94-2.06-.94L8.5 2.5l-.94 2.06-2.06.94zm10 10l.94 2.06.94-2.06 2.06-.94-2.06-.94-.94-2.06-.94 2.06-2.06.94z\"/><path d=\"M17.41 7.96l-1.37-1.37c-.4-.4-.92-.59-1.43-.59-.52 0-1.04.2-1.43.59L10.3 9.45l-7.72 7.72c-.78.78-.78 2.05 0 2.83L4 21.41c.39.39.9.59 1.41.59.51 0 1.02-.2 1.41-.59l7.78-7.78 2.81-2.81c.8-.78.8-2.07 0-2.86zM5.41 20L4 18.59l7.72-7.72 1.47 1.35L5.41 20z\"/>\n",
              "  </svg>\n",
              "      </button>\n",
              "\n",
              "\n",
              "\n",
              "    <div id=\"df-c18bec6e-22f5-4e5c-a109-e073f968b75d\">\n",
              "      <button class=\"colab-df-quickchart\" onclick=\"quickchart('df-c18bec6e-22f5-4e5c-a109-e073f968b75d')\"\n",
              "              title=\"Suggest charts.\"\n",
              "              style=\"display:none;\">\n",
              "\n",
              "<svg xmlns=\"http://www.w3.org/2000/svg\" height=\"24px\"viewBox=\"0 0 24 24\"\n",
              "     width=\"24px\">\n",
              "    <g>\n",
              "        <path d=\"M19 3H5c-1.1 0-2 .9-2 2v14c0 1.1.9 2 2 2h14c1.1 0 2-.9 2-2V5c0-1.1-.9-2-2-2zM9 17H7v-7h2v7zm4 0h-2V7h2v10zm4 0h-2v-4h2v4z\"/>\n",
              "    </g>\n",
              "</svg>\n",
              "      </button>\n",
              "    </div>\n",
              "\n",
              "<style>\n",
              "  .colab-df-quickchart {\n",
              "    background-color: #E8F0FE;\n",
              "    border: none;\n",
              "    border-radius: 50%;\n",
              "    cursor: pointer;\n",
              "    display: none;\n",
              "    fill: #1967D2;\n",
              "    height: 32px;\n",
              "    padding: 0 0 0 0;\n",
              "    width: 32px;\n",
              "  }\n",
              "\n",
              "  .colab-df-quickchart:hover {\n",
              "    background-color: #E2EBFA;\n",
              "    box-shadow: 0px 1px 2px rgba(60, 64, 67, 0.3), 0px 1px 3px 1px rgba(60, 64, 67, 0.15);\n",
              "    fill: #174EA6;\n",
              "  }\n",
              "\n",
              "  [theme=dark] .colab-df-quickchart {\n",
              "    background-color: #3B4455;\n",
              "    fill: #D2E3FC;\n",
              "  }\n",
              "\n",
              "  [theme=dark] .colab-df-quickchart:hover {\n",
              "    background-color: #434B5C;\n",
              "    box-shadow: 0px 1px 3px 1px rgba(0, 0, 0, 0.15);\n",
              "    filter: drop-shadow(0px 1px 2px rgba(0, 0, 0, 0.3));\n",
              "    fill: #FFFFFF;\n",
              "  }\n",
              "</style>\n",
              "\n",
              "    <script>\n",
              "      async function quickchart(key) {\n",
              "        const containerElement = document.querySelector('#' + key);\n",
              "        const charts = await google.colab.kernel.invokeFunction(\n",
              "            'suggestCharts', [key], {});\n",
              "      }\n",
              "    </script>\n",
              "\n",
              "      <script>\n",
              "\n",
              "function displayQuickchartButton(domScope) {\n",
              "  let quickchartButtonEl =\n",
              "    domScope.querySelector('#df-c18bec6e-22f5-4e5c-a109-e073f968b75d button.colab-df-quickchart');\n",
              "  quickchartButtonEl.style.display =\n",
              "    google.colab.kernel.accessAllowed ? 'block' : 'none';\n",
              "}\n",
              "\n",
              "        displayQuickchartButton(document);\n",
              "      </script>\n",
              "      <style>\n",
              "    .colab-df-container {\n",
              "      display:flex;\n",
              "      flex-wrap:wrap;\n",
              "      gap: 12px;\n",
              "    }\n",
              "\n",
              "    .colab-df-convert {\n",
              "      background-color: #E8F0FE;\n",
              "      border: none;\n",
              "      border-radius: 50%;\n",
              "      cursor: pointer;\n",
              "      display: none;\n",
              "      fill: #1967D2;\n",
              "      height: 32px;\n",
              "      padding: 0 0 0 0;\n",
              "      width: 32px;\n",
              "    }\n",
              "\n",
              "    .colab-df-convert:hover {\n",
              "      background-color: #E2EBFA;\n",
              "      box-shadow: 0px 1px 2px rgba(60, 64, 67, 0.3), 0px 1px 3px 1px rgba(60, 64, 67, 0.15);\n",
              "      fill: #174EA6;\n",
              "    }\n",
              "\n",
              "    [theme=dark] .colab-df-convert {\n",
              "      background-color: #3B4455;\n",
              "      fill: #D2E3FC;\n",
              "    }\n",
              "\n",
              "    [theme=dark] .colab-df-convert:hover {\n",
              "      background-color: #434B5C;\n",
              "      box-shadow: 0px 1px 3px 1px rgba(0, 0, 0, 0.15);\n",
              "      filter: drop-shadow(0px 1px 2px rgba(0, 0, 0, 0.3));\n",
              "      fill: #FFFFFF;\n",
              "    }\n",
              "  </style>\n",
              "\n",
              "      <script>\n",
              "        const buttonEl =\n",
              "          document.querySelector('#df-66ef7416-cdba-4036-a693-4611ccb56ced button.colab-df-convert');\n",
              "        buttonEl.style.display =\n",
              "          google.colab.kernel.accessAllowed ? 'block' : 'none';\n",
              "\n",
              "        async function convertToInteractive(key) {\n",
              "          const element = document.querySelector('#df-66ef7416-cdba-4036-a693-4611ccb56ced');\n",
              "          const dataTable =\n",
              "            await google.colab.kernel.invokeFunction('convertToInteractive',\n",
              "                                                     [key], {});\n",
              "          if (!dataTable) return;\n",
              "\n",
              "          const docLinkHtml = 'Like what you see? Visit the ' +\n",
              "            '<a target=\"_blank\" href=https://colab.research.google.com/notebooks/data_table.ipynb>data table notebook</a>'\n",
              "            + ' to learn more about interactive tables.';\n",
              "          element.innerHTML = '';\n",
              "          dataTable['output_type'] = 'display_data';\n",
              "          await google.colab.output.renderOutput(dataTable, element);\n",
              "          const docLink = document.createElement('div');\n",
              "          docLink.innerHTML = docLinkHtml;\n",
              "          element.appendChild(docLink);\n",
              "        }\n",
              "      </script>\n",
              "    </div>\n",
              "  </div>\n"
            ]
          },
          "metadata": {},
          "execution_count": 12
        }
      ]
    },
    {
      "cell_type": "markdown",
      "source": [
        "**Remove Stopwords**"
      ],
      "metadata": {
        "id": "S-jQNbmqz7QO"
      }
    },
    {
      "cell_type": "code",
      "source": [
        "stop = stopwords.words('english')\n",
        "clean_news['news'] = clean_news['news'].apply(lambda x: ' '.join([word for word in x.split() if word not in (stop)]))\n",
        "clean_news.head()"
      ],
      "metadata": {
        "colab": {
          "base_uri": "https://localhost:8080/",
          "height": 206
        },
        "id": "K4GAdrhdz6qK",
        "outputId": "48dfadd9-7753-4eee-8c9d-7348ae0019cf"
      },
      "execution_count": null,
      "outputs": [
        {
          "output_type": "execute_result",
          "data": {
            "text/plain": [
              "        subject               date  \\\n",
              "0      politics        Nov 1, 2017   \n",
              "1  politicsNews   January 6, 2017    \n",
              "2          News  November 14, 2016   \n",
              "3          News   January 20, 2016   \n",
              "4          News      June 12, 2016   \n",
              "\n",
              "                                                news  class  \n",
              "0  dem lawmaker’s epic fake panic attack speeding...      0  \n",
              "1  anarchists threaten disrupt trump inauguration...      1  \n",
              "2  actress emmy rossum fires back trump fans disg...      0  \n",
              "3  gop strategist trump supporters ‘crazy’ nazis ...      0  \n",
              "4  hillary hits trump socalled ‘university’ hard ...      0  "
            ],
            "text/html": [
              "\n",
              "\n",
              "  <div id=\"df-f68b46cd-a2f7-473e-8347-5faafe4db3fe\">\n",
              "    <div class=\"colab-df-container\">\n",
              "      <div>\n",
              "<style scoped>\n",
              "    .dataframe tbody tr th:only-of-type {\n",
              "        vertical-align: middle;\n",
              "    }\n",
              "\n",
              "    .dataframe tbody tr th {\n",
              "        vertical-align: top;\n",
              "    }\n",
              "\n",
              "    .dataframe thead th {\n",
              "        text-align: right;\n",
              "    }\n",
              "</style>\n",
              "<table border=\"1\" class=\"dataframe\">\n",
              "  <thead>\n",
              "    <tr style=\"text-align: right;\">\n",
              "      <th></th>\n",
              "      <th>subject</th>\n",
              "      <th>date</th>\n",
              "      <th>news</th>\n",
              "      <th>class</th>\n",
              "    </tr>\n",
              "  </thead>\n",
              "  <tbody>\n",
              "    <tr>\n",
              "      <th>0</th>\n",
              "      <td>politics</td>\n",
              "      <td>Nov 1, 2017</td>\n",
              "      <td>dem lawmaker’s epic fake panic attack speeding...</td>\n",
              "      <td>0</td>\n",
              "    </tr>\n",
              "    <tr>\n",
              "      <th>1</th>\n",
              "      <td>politicsNews</td>\n",
              "      <td>January 6, 2017</td>\n",
              "      <td>anarchists threaten disrupt trump inauguration...</td>\n",
              "      <td>1</td>\n",
              "    </tr>\n",
              "    <tr>\n",
              "      <th>2</th>\n",
              "      <td>News</td>\n",
              "      <td>November 14, 2016</td>\n",
              "      <td>actress emmy rossum fires back trump fans disg...</td>\n",
              "      <td>0</td>\n",
              "    </tr>\n",
              "    <tr>\n",
              "      <th>3</th>\n",
              "      <td>News</td>\n",
              "      <td>January 20, 2016</td>\n",
              "      <td>gop strategist trump supporters ‘crazy’ nazis ...</td>\n",
              "      <td>0</td>\n",
              "    </tr>\n",
              "    <tr>\n",
              "      <th>4</th>\n",
              "      <td>News</td>\n",
              "      <td>June 12, 2016</td>\n",
              "      <td>hillary hits trump socalled ‘university’ hard ...</td>\n",
              "      <td>0</td>\n",
              "    </tr>\n",
              "  </tbody>\n",
              "</table>\n",
              "</div>\n",
              "      <button class=\"colab-df-convert\" onclick=\"convertToInteractive('df-f68b46cd-a2f7-473e-8347-5faafe4db3fe')\"\n",
              "              title=\"Convert this dataframe to an interactive table.\"\n",
              "              style=\"display:none;\">\n",
              "\n",
              "  <svg xmlns=\"http://www.w3.org/2000/svg\" height=\"24px\"viewBox=\"0 0 24 24\"\n",
              "       width=\"24px\">\n",
              "    <path d=\"M0 0h24v24H0V0z\" fill=\"none\"/>\n",
              "    <path d=\"M18.56 5.44l.94 2.06.94-2.06 2.06-.94-2.06-.94-.94-2.06-.94 2.06-2.06.94zm-11 1L8.5 8.5l.94-2.06 2.06-.94-2.06-.94L8.5 2.5l-.94 2.06-2.06.94zm10 10l.94 2.06.94-2.06 2.06-.94-2.06-.94-.94-2.06-.94 2.06-2.06.94z\"/><path d=\"M17.41 7.96l-1.37-1.37c-.4-.4-.92-.59-1.43-.59-.52 0-1.04.2-1.43.59L10.3 9.45l-7.72 7.72c-.78.78-.78 2.05 0 2.83L4 21.41c.39.39.9.59 1.41.59.51 0 1.02-.2 1.41-.59l7.78-7.78 2.81-2.81c.8-.78.8-2.07 0-2.86zM5.41 20L4 18.59l7.72-7.72 1.47 1.35L5.41 20z\"/>\n",
              "  </svg>\n",
              "      </button>\n",
              "\n",
              "\n",
              "\n",
              "    <div id=\"df-ba1a4848-a0a3-4549-95d8-27214d7ff6ee\">\n",
              "      <button class=\"colab-df-quickchart\" onclick=\"quickchart('df-ba1a4848-a0a3-4549-95d8-27214d7ff6ee')\"\n",
              "              title=\"Suggest charts.\"\n",
              "              style=\"display:none;\">\n",
              "\n",
              "<svg xmlns=\"http://www.w3.org/2000/svg\" height=\"24px\"viewBox=\"0 0 24 24\"\n",
              "     width=\"24px\">\n",
              "    <g>\n",
              "        <path d=\"M19 3H5c-1.1 0-2 .9-2 2v14c0 1.1.9 2 2 2h14c1.1 0 2-.9 2-2V5c0-1.1-.9-2-2-2zM9 17H7v-7h2v7zm4 0h-2V7h2v10zm4 0h-2v-4h2v4z\"/>\n",
              "    </g>\n",
              "</svg>\n",
              "      </button>\n",
              "    </div>\n",
              "\n",
              "<style>\n",
              "  .colab-df-quickchart {\n",
              "    background-color: #E8F0FE;\n",
              "    border: none;\n",
              "    border-radius: 50%;\n",
              "    cursor: pointer;\n",
              "    display: none;\n",
              "    fill: #1967D2;\n",
              "    height: 32px;\n",
              "    padding: 0 0 0 0;\n",
              "    width: 32px;\n",
              "  }\n",
              "\n",
              "  .colab-df-quickchart:hover {\n",
              "    background-color: #E2EBFA;\n",
              "    box-shadow: 0px 1px 2px rgba(60, 64, 67, 0.3), 0px 1px 3px 1px rgba(60, 64, 67, 0.15);\n",
              "    fill: #174EA6;\n",
              "  }\n",
              "\n",
              "  [theme=dark] .colab-df-quickchart {\n",
              "    background-color: #3B4455;\n",
              "    fill: #D2E3FC;\n",
              "  }\n",
              "\n",
              "  [theme=dark] .colab-df-quickchart:hover {\n",
              "    background-color: #434B5C;\n",
              "    box-shadow: 0px 1px 3px 1px rgba(0, 0, 0, 0.15);\n",
              "    filter: drop-shadow(0px 1px 2px rgba(0, 0, 0, 0.3));\n",
              "    fill: #FFFFFF;\n",
              "  }\n",
              "</style>\n",
              "\n",
              "    <script>\n",
              "      async function quickchart(key) {\n",
              "        const containerElement = document.querySelector('#' + key);\n",
              "        const charts = await google.colab.kernel.invokeFunction(\n",
              "            'suggestCharts', [key], {});\n",
              "      }\n",
              "    </script>\n",
              "\n",
              "      <script>\n",
              "\n",
              "function displayQuickchartButton(domScope) {\n",
              "  let quickchartButtonEl =\n",
              "    domScope.querySelector('#df-ba1a4848-a0a3-4549-95d8-27214d7ff6ee button.colab-df-quickchart');\n",
              "  quickchartButtonEl.style.display =\n",
              "    google.colab.kernel.accessAllowed ? 'block' : 'none';\n",
              "}\n",
              "\n",
              "        displayQuickchartButton(document);\n",
              "      </script>\n",
              "      <style>\n",
              "    .colab-df-container {\n",
              "      display:flex;\n",
              "      flex-wrap:wrap;\n",
              "      gap: 12px;\n",
              "    }\n",
              "\n",
              "    .colab-df-convert {\n",
              "      background-color: #E8F0FE;\n",
              "      border: none;\n",
              "      border-radius: 50%;\n",
              "      cursor: pointer;\n",
              "      display: none;\n",
              "      fill: #1967D2;\n",
              "      height: 32px;\n",
              "      padding: 0 0 0 0;\n",
              "      width: 32px;\n",
              "    }\n",
              "\n",
              "    .colab-df-convert:hover {\n",
              "      background-color: #E2EBFA;\n",
              "      box-shadow: 0px 1px 2px rgba(60, 64, 67, 0.3), 0px 1px 3px 1px rgba(60, 64, 67, 0.15);\n",
              "      fill: #174EA6;\n",
              "    }\n",
              "\n",
              "    [theme=dark] .colab-df-convert {\n",
              "      background-color: #3B4455;\n",
              "      fill: #D2E3FC;\n",
              "    }\n",
              "\n",
              "    [theme=dark] .colab-df-convert:hover {\n",
              "      background-color: #434B5C;\n",
              "      box-shadow: 0px 1px 3px 1px rgba(0, 0, 0, 0.15);\n",
              "      filter: drop-shadow(0px 1px 2px rgba(0, 0, 0, 0.3));\n",
              "      fill: #FFFFFF;\n",
              "    }\n",
              "  </style>\n",
              "\n",
              "      <script>\n",
              "        const buttonEl =\n",
              "          document.querySelector('#df-f68b46cd-a2f7-473e-8347-5faafe4db3fe button.colab-df-convert');\n",
              "        buttonEl.style.display =\n",
              "          google.colab.kernel.accessAllowed ? 'block' : 'none';\n",
              "\n",
              "        async function convertToInteractive(key) {\n",
              "          const element = document.querySelector('#df-f68b46cd-a2f7-473e-8347-5faafe4db3fe');\n",
              "          const dataTable =\n",
              "            await google.colab.kernel.invokeFunction('convertToInteractive',\n",
              "                                                     [key], {});\n",
              "          if (!dataTable) return;\n",
              "\n",
              "          const docLinkHtml = 'Like what you see? Visit the ' +\n",
              "            '<a target=\"_blank\" href=https://colab.research.google.com/notebooks/data_table.ipynb>data table notebook</a>'\n",
              "            + ' to learn more about interactive tables.';\n",
              "          element.innerHTML = '';\n",
              "          dataTable['output_type'] = 'display_data';\n",
              "          await google.colab.output.renderOutput(dataTable, element);\n",
              "          const docLink = document.createElement('div');\n",
              "          docLink.innerHTML = docLinkHtml;\n",
              "          element.appendChild(docLink);\n",
              "        }\n",
              "      </script>\n",
              "    </div>\n",
              "  </div>\n"
            ]
          },
          "metadata": {},
          "execution_count": 13
        }
      ]
    },
    {
      "cell_type": "markdown",
      "source": [
        "**Stemming**"
      ],
      "metadata": {
        "id": "okFo1HpO1LIw"
      }
    },
    {
      "cell_type": "code",
      "source": [
        "#Extracting 'reviews' for processing\n",
        "news_features=clean_news.copy()\n",
        "news_features=news_features[['news']].reset_index(drop=True)\n",
        "news_features.head()"
      ],
      "metadata": {
        "colab": {
          "base_uri": "https://localhost:8080/",
          "height": 206
        },
        "id": "bSYufTxf1NWY",
        "outputId": "1d7b0367-9c70-46b6-8984-78784fce4e98"
      },
      "execution_count": null,
      "outputs": [
        {
          "output_type": "execute_result",
          "data": {
            "text/plain": [
              "                                                news\n",
              "0  dem lawmaker’s epic fake panic attack speeding...\n",
              "1  anarchists threaten disrupt trump inauguration...\n",
              "2  actress emmy rossum fires back trump fans disg...\n",
              "3  gop strategist trump supporters ‘crazy’ nazis ...\n",
              "4  hillary hits trump socalled ‘university’ hard ..."
            ],
            "text/html": [
              "\n",
              "\n",
              "  <div id=\"df-b713e900-064a-48f8-8cd4-360fdd449f79\">\n",
              "    <div class=\"colab-df-container\">\n",
              "      <div>\n",
              "<style scoped>\n",
              "    .dataframe tbody tr th:only-of-type {\n",
              "        vertical-align: middle;\n",
              "    }\n",
              "\n",
              "    .dataframe tbody tr th {\n",
              "        vertical-align: top;\n",
              "    }\n",
              "\n",
              "    .dataframe thead th {\n",
              "        text-align: right;\n",
              "    }\n",
              "</style>\n",
              "<table border=\"1\" class=\"dataframe\">\n",
              "  <thead>\n",
              "    <tr style=\"text-align: right;\">\n",
              "      <th></th>\n",
              "      <th>news</th>\n",
              "    </tr>\n",
              "  </thead>\n",
              "  <tbody>\n",
              "    <tr>\n",
              "      <th>0</th>\n",
              "      <td>dem lawmaker’s epic fake panic attack speeding...</td>\n",
              "    </tr>\n",
              "    <tr>\n",
              "      <th>1</th>\n",
              "      <td>anarchists threaten disrupt trump inauguration...</td>\n",
              "    </tr>\n",
              "    <tr>\n",
              "      <th>2</th>\n",
              "      <td>actress emmy rossum fires back trump fans disg...</td>\n",
              "    </tr>\n",
              "    <tr>\n",
              "      <th>3</th>\n",
              "      <td>gop strategist trump supporters ‘crazy’ nazis ...</td>\n",
              "    </tr>\n",
              "    <tr>\n",
              "      <th>4</th>\n",
              "      <td>hillary hits trump socalled ‘university’ hard ...</td>\n",
              "    </tr>\n",
              "  </tbody>\n",
              "</table>\n",
              "</div>\n",
              "      <button class=\"colab-df-convert\" onclick=\"convertToInteractive('df-b713e900-064a-48f8-8cd4-360fdd449f79')\"\n",
              "              title=\"Convert this dataframe to an interactive table.\"\n",
              "              style=\"display:none;\">\n",
              "\n",
              "  <svg xmlns=\"http://www.w3.org/2000/svg\" height=\"24px\"viewBox=\"0 0 24 24\"\n",
              "       width=\"24px\">\n",
              "    <path d=\"M0 0h24v24H0V0z\" fill=\"none\"/>\n",
              "    <path d=\"M18.56 5.44l.94 2.06.94-2.06 2.06-.94-2.06-.94-.94-2.06-.94 2.06-2.06.94zm-11 1L8.5 8.5l.94-2.06 2.06-.94-2.06-.94L8.5 2.5l-.94 2.06-2.06.94zm10 10l.94 2.06.94-2.06 2.06-.94-2.06-.94-.94-2.06-.94 2.06-2.06.94z\"/><path d=\"M17.41 7.96l-1.37-1.37c-.4-.4-.92-.59-1.43-.59-.52 0-1.04.2-1.43.59L10.3 9.45l-7.72 7.72c-.78.78-.78 2.05 0 2.83L4 21.41c.39.39.9.59 1.41.59.51 0 1.02-.2 1.41-.59l7.78-7.78 2.81-2.81c.8-.78.8-2.07 0-2.86zM5.41 20L4 18.59l7.72-7.72 1.47 1.35L5.41 20z\"/>\n",
              "  </svg>\n",
              "      </button>\n",
              "\n",
              "\n",
              "\n",
              "    <div id=\"df-02967630-c34b-46f8-a235-c60125c39fbc\">\n",
              "      <button class=\"colab-df-quickchart\" onclick=\"quickchart('df-02967630-c34b-46f8-a235-c60125c39fbc')\"\n",
              "              title=\"Suggest charts.\"\n",
              "              style=\"display:none;\">\n",
              "\n",
              "<svg xmlns=\"http://www.w3.org/2000/svg\" height=\"24px\"viewBox=\"0 0 24 24\"\n",
              "     width=\"24px\">\n",
              "    <g>\n",
              "        <path d=\"M19 3H5c-1.1 0-2 .9-2 2v14c0 1.1.9 2 2 2h14c1.1 0 2-.9 2-2V5c0-1.1-.9-2-2-2zM9 17H7v-7h2v7zm4 0h-2V7h2v10zm4 0h-2v-4h2v4z\"/>\n",
              "    </g>\n",
              "</svg>\n",
              "      </button>\n",
              "    </div>\n",
              "\n",
              "<style>\n",
              "  .colab-df-quickchart {\n",
              "    background-color: #E8F0FE;\n",
              "    border: none;\n",
              "    border-radius: 50%;\n",
              "    cursor: pointer;\n",
              "    display: none;\n",
              "    fill: #1967D2;\n",
              "    height: 32px;\n",
              "    padding: 0 0 0 0;\n",
              "    width: 32px;\n",
              "  }\n",
              "\n",
              "  .colab-df-quickchart:hover {\n",
              "    background-color: #E2EBFA;\n",
              "    box-shadow: 0px 1px 2px rgba(60, 64, 67, 0.3), 0px 1px 3px 1px rgba(60, 64, 67, 0.15);\n",
              "    fill: #174EA6;\n",
              "  }\n",
              "\n",
              "  [theme=dark] .colab-df-quickchart {\n",
              "    background-color: #3B4455;\n",
              "    fill: #D2E3FC;\n",
              "  }\n",
              "\n",
              "  [theme=dark] .colab-df-quickchart:hover {\n",
              "    background-color: #434B5C;\n",
              "    box-shadow: 0px 1px 3px 1px rgba(0, 0, 0, 0.15);\n",
              "    filter: drop-shadow(0px 1px 2px rgba(0, 0, 0, 0.3));\n",
              "    fill: #FFFFFF;\n",
              "  }\n",
              "</style>\n",
              "\n",
              "    <script>\n",
              "      async function quickchart(key) {\n",
              "        const containerElement = document.querySelector('#' + key);\n",
              "        const charts = await google.colab.kernel.invokeFunction(\n",
              "            'suggestCharts', [key], {});\n",
              "      }\n",
              "    </script>\n",
              "\n",
              "      <script>\n",
              "\n",
              "function displayQuickchartButton(domScope) {\n",
              "  let quickchartButtonEl =\n",
              "    domScope.querySelector('#df-02967630-c34b-46f8-a235-c60125c39fbc button.colab-df-quickchart');\n",
              "  quickchartButtonEl.style.display =\n",
              "    google.colab.kernel.accessAllowed ? 'block' : 'none';\n",
              "}\n",
              "\n",
              "        displayQuickchartButton(document);\n",
              "      </script>\n",
              "      <style>\n",
              "    .colab-df-container {\n",
              "      display:flex;\n",
              "      flex-wrap:wrap;\n",
              "      gap: 12px;\n",
              "    }\n",
              "\n",
              "    .colab-df-convert {\n",
              "      background-color: #E8F0FE;\n",
              "      border: none;\n",
              "      border-radius: 50%;\n",
              "      cursor: pointer;\n",
              "      display: none;\n",
              "      fill: #1967D2;\n",
              "      height: 32px;\n",
              "      padding: 0 0 0 0;\n",
              "      width: 32px;\n",
              "    }\n",
              "\n",
              "    .colab-df-convert:hover {\n",
              "      background-color: #E2EBFA;\n",
              "      box-shadow: 0px 1px 2px rgba(60, 64, 67, 0.3), 0px 1px 3px 1px rgba(60, 64, 67, 0.15);\n",
              "      fill: #174EA6;\n",
              "    }\n",
              "\n",
              "    [theme=dark] .colab-df-convert {\n",
              "      background-color: #3B4455;\n",
              "      fill: #D2E3FC;\n",
              "    }\n",
              "\n",
              "    [theme=dark] .colab-df-convert:hover {\n",
              "      background-color: #434B5C;\n",
              "      box-shadow: 0px 1px 3px 1px rgba(0, 0, 0, 0.15);\n",
              "      filter: drop-shadow(0px 1px 2px rgba(0, 0, 0, 0.3));\n",
              "      fill: #FFFFFF;\n",
              "    }\n",
              "  </style>\n",
              "\n",
              "      <script>\n",
              "        const buttonEl =\n",
              "          document.querySelector('#df-b713e900-064a-48f8-8cd4-360fdd449f79 button.colab-df-convert');\n",
              "        buttonEl.style.display =\n",
              "          google.colab.kernel.accessAllowed ? 'block' : 'none';\n",
              "\n",
              "        async function convertToInteractive(key) {\n",
              "          const element = document.querySelector('#df-b713e900-064a-48f8-8cd4-360fdd449f79');\n",
              "          const dataTable =\n",
              "            await google.colab.kernel.invokeFunction('convertToInteractive',\n",
              "                                                     [key], {});\n",
              "          if (!dataTable) return;\n",
              "\n",
              "          const docLinkHtml = 'Like what you see? Visit the ' +\n",
              "            '<a target=\"_blank\" href=https://colab.research.google.com/notebooks/data_table.ipynb>data table notebook</a>'\n",
              "            + ' to learn more about interactive tables.';\n",
              "          element.innerHTML = '';\n",
              "          dataTable['output_type'] = 'display_data';\n",
              "          await google.colab.output.renderOutput(dataTable, element);\n",
              "          const docLink = document.createElement('div');\n",
              "          docLink.innerHTML = docLinkHtml;\n",
              "          element.appendChild(docLink);\n",
              "        }\n",
              "      </script>\n",
              "    </div>\n",
              "  </div>\n"
            ]
          },
          "metadata": {},
          "execution_count": 14
        }
      ]
    },
    {
      "cell_type": "code",
      "source": [
        "stop_words = set(stopwords.words(\"english\"))\n",
        "#Performing stemming on the review dataframe\n",
        "ps = PorterStemmer()\n",
        "\n",
        "#splitting and adding the stemmed words except stopwords\n",
        "corpus = []\n",
        "for i in range(0, len(news_features)):\n",
        "    news = re.sub('[^a-zA-Z]', ' ', news_features['news'][i])\n",
        "    news= news.lower()\n",
        "    news = news.split()\n",
        "    news = [ps.stem(word) for word in news if not word in stop_words]\n",
        "    news = ' '.join(news)\n",
        "    corpus.append(news)"
      ],
      "metadata": {
        "id": "wWcslzEz1WBa"
      },
      "execution_count": null,
      "outputs": []
    },
    {
      "cell_type": "code",
      "source": [
        "corpus[1]"
      ],
      "metadata": {
        "colab": {
          "base_uri": "https://localhost:8080/",
          "height": 140
        },
        "id": "1Bs-VD412gUm",
        "outputId": "e3abd9d0-71a3-4b01-a976-34ace267ae1b"
      },
      "execution_count": null,
      "outputs": [
        {
          "output_type": "execute_result",
          "data": {
            "text/plain": [
              "'anarchist threaten disrupt trump inaugur polic say readywashington reuter anarchist group threaten shut republican donald trump swearingin us presid polic washington said friday believ thousand secur offic assign event abl head disrupt dozen activist group plan protest jan inaugur new york real estat develop whose support count fulfil host controversi campaign promis includ build wall mexican border deport million illeg immigr polic expect peopl flood washington inaugur ceremoni includ parad us capitol white hous along street throng onlook interim polic chief peter newsham told report friday addit two dozen activist group sought permit peac demonstr washington polic awar anarchist group vow onlin interrupt proceed fact folk indic social media come shut inaugur event someth prepar newsham said experienc type thing citi abl handl ask prospect mass arrest newsham said one thing prepar anticip case protest plan inaugur biggest event women march washington jan nation park servic said thursday would start issu permit protest site civil right lawyer threaten sue say agenc quash dissent polic offic outsid district nation guard troop feder agent staff buffer crowdcontrol barrier bag check said brian ebert head secret servic district field offic barrier place prevent possibl truck attack attack berlin last month nice franc juli propot lobbi group vow distribut joint light near inaugur site show support legal marijuana nationwid marijuana legal district columbia consum privat ask polic would bust smoker mayor muriel bowser said first prioriti'"
            ],
            "application/vnd.google.colaboratory.intrinsic+json": {
              "type": "string"
            }
          },
          "metadata": {},
          "execution_count": 16
        }
      ]
    },
    {
      "cell_type": "markdown",
      "source": [
        "**Tokenisation**"
      ],
      "metadata": {
        "id": "EgyZRk6TDweq"
      }
    },
    {
      "cell_type": "code",
      "source": [
        "import re\n",
        "\n",
        "def tokenize(txt):\n",
        "  tokens = re.split('\\W+', txt)\n",
        "  return tokens\n",
        "\n",
        "clean_news['tokenized_news']=clean_news['news'].apply(lambda x: tokenize(x.lower()))\n",
        "clean_news.head()"
      ],
      "metadata": {
        "colab": {
          "base_uri": "https://localhost:8080/",
          "height": 206
        },
        "id": "hiPmjIXyJB0y",
        "outputId": "05444e20-87d8-4515-f5df-fca01daf4ae5"
      },
      "execution_count": null,
      "outputs": [
        {
          "output_type": "execute_result",
          "data": {
            "text/plain": [
              "        subject               date  \\\n",
              "0      politics        Nov 1, 2017   \n",
              "1  politicsNews   January 6, 2017    \n",
              "2          News  November 14, 2016   \n",
              "3          News   January 20, 2016   \n",
              "4          News      June 12, 2016   \n",
              "\n",
              "                                                news  class  \\\n",
              "0  dem lawmaker’s epic fake panic attack speeding...      0   \n",
              "1  anarchists threaten disrupt trump inauguration...      1   \n",
              "2  actress emmy rossum fires back trump fans disg...      0   \n",
              "3  gop strategist trump supporters ‘crazy’ nazis ...      0   \n",
              "4  hillary hits trump socalled ‘university’ hard ...      0   \n",
              "\n",
              "                                      tokenized_news  \n",
              "0  [dem, lawmaker, s, epic, fake, panic, attack, ...  \n",
              "1  [anarchists, threaten, disrupt, trump, inaugur...  \n",
              "2  [actress, emmy, rossum, fires, back, trump, fa...  \n",
              "3  [gop, strategist, trump, supporters, crazy, na...  \n",
              "4  [hillary, hits, trump, socalled, university, h...  "
            ],
            "text/html": [
              "\n",
              "\n",
              "  <div id=\"df-abdf57b3-409c-40b2-9b34-d9d751255a32\">\n",
              "    <div class=\"colab-df-container\">\n",
              "      <div>\n",
              "<style scoped>\n",
              "    .dataframe tbody tr th:only-of-type {\n",
              "        vertical-align: middle;\n",
              "    }\n",
              "\n",
              "    .dataframe tbody tr th {\n",
              "        vertical-align: top;\n",
              "    }\n",
              "\n",
              "    .dataframe thead th {\n",
              "        text-align: right;\n",
              "    }\n",
              "</style>\n",
              "<table border=\"1\" class=\"dataframe\">\n",
              "  <thead>\n",
              "    <tr style=\"text-align: right;\">\n",
              "      <th></th>\n",
              "      <th>subject</th>\n",
              "      <th>date</th>\n",
              "      <th>news</th>\n",
              "      <th>class</th>\n",
              "      <th>tokenized_news</th>\n",
              "    </tr>\n",
              "  </thead>\n",
              "  <tbody>\n",
              "    <tr>\n",
              "      <th>0</th>\n",
              "      <td>politics</td>\n",
              "      <td>Nov 1, 2017</td>\n",
              "      <td>dem lawmaker’s epic fake panic attack speeding...</td>\n",
              "      <td>0</td>\n",
              "      <td>[dem, lawmaker, s, epic, fake, panic, attack, ...</td>\n",
              "    </tr>\n",
              "    <tr>\n",
              "      <th>1</th>\n",
              "      <td>politicsNews</td>\n",
              "      <td>January 6, 2017</td>\n",
              "      <td>anarchists threaten disrupt trump inauguration...</td>\n",
              "      <td>1</td>\n",
              "      <td>[anarchists, threaten, disrupt, trump, inaugur...</td>\n",
              "    </tr>\n",
              "    <tr>\n",
              "      <th>2</th>\n",
              "      <td>News</td>\n",
              "      <td>November 14, 2016</td>\n",
              "      <td>actress emmy rossum fires back trump fans disg...</td>\n",
              "      <td>0</td>\n",
              "      <td>[actress, emmy, rossum, fires, back, trump, fa...</td>\n",
              "    </tr>\n",
              "    <tr>\n",
              "      <th>3</th>\n",
              "      <td>News</td>\n",
              "      <td>January 20, 2016</td>\n",
              "      <td>gop strategist trump supporters ‘crazy’ nazis ...</td>\n",
              "      <td>0</td>\n",
              "      <td>[gop, strategist, trump, supporters, crazy, na...</td>\n",
              "    </tr>\n",
              "    <tr>\n",
              "      <th>4</th>\n",
              "      <td>News</td>\n",
              "      <td>June 12, 2016</td>\n",
              "      <td>hillary hits trump socalled ‘university’ hard ...</td>\n",
              "      <td>0</td>\n",
              "      <td>[hillary, hits, trump, socalled, university, h...</td>\n",
              "    </tr>\n",
              "  </tbody>\n",
              "</table>\n",
              "</div>\n",
              "      <button class=\"colab-df-convert\" onclick=\"convertToInteractive('df-abdf57b3-409c-40b2-9b34-d9d751255a32')\"\n",
              "              title=\"Convert this dataframe to an interactive table.\"\n",
              "              style=\"display:none;\">\n",
              "\n",
              "  <svg xmlns=\"http://www.w3.org/2000/svg\" height=\"24px\"viewBox=\"0 0 24 24\"\n",
              "       width=\"24px\">\n",
              "    <path d=\"M0 0h24v24H0V0z\" fill=\"none\"/>\n",
              "    <path d=\"M18.56 5.44l.94 2.06.94-2.06 2.06-.94-2.06-.94-.94-2.06-.94 2.06-2.06.94zm-11 1L8.5 8.5l.94-2.06 2.06-.94-2.06-.94L8.5 2.5l-.94 2.06-2.06.94zm10 10l.94 2.06.94-2.06 2.06-.94-2.06-.94-.94-2.06-.94 2.06-2.06.94z\"/><path d=\"M17.41 7.96l-1.37-1.37c-.4-.4-.92-.59-1.43-.59-.52 0-1.04.2-1.43.59L10.3 9.45l-7.72 7.72c-.78.78-.78 2.05 0 2.83L4 21.41c.39.39.9.59 1.41.59.51 0 1.02-.2 1.41-.59l7.78-7.78 2.81-2.81c.8-.78.8-2.07 0-2.86zM5.41 20L4 18.59l7.72-7.72 1.47 1.35L5.41 20z\"/>\n",
              "  </svg>\n",
              "      </button>\n",
              "\n",
              "\n",
              "\n",
              "    <div id=\"df-f10ff2c0-de3f-43fa-bdd2-32f1a8aec158\">\n",
              "      <button class=\"colab-df-quickchart\" onclick=\"quickchart('df-f10ff2c0-de3f-43fa-bdd2-32f1a8aec158')\"\n",
              "              title=\"Suggest charts.\"\n",
              "              style=\"display:none;\">\n",
              "\n",
              "<svg xmlns=\"http://www.w3.org/2000/svg\" height=\"24px\"viewBox=\"0 0 24 24\"\n",
              "     width=\"24px\">\n",
              "    <g>\n",
              "        <path d=\"M19 3H5c-1.1 0-2 .9-2 2v14c0 1.1.9 2 2 2h14c1.1 0 2-.9 2-2V5c0-1.1-.9-2-2-2zM9 17H7v-7h2v7zm4 0h-2V7h2v10zm4 0h-2v-4h2v4z\"/>\n",
              "    </g>\n",
              "</svg>\n",
              "      </button>\n",
              "    </div>\n",
              "\n",
              "<style>\n",
              "  .colab-df-quickchart {\n",
              "    background-color: #E8F0FE;\n",
              "    border: none;\n",
              "    border-radius: 50%;\n",
              "    cursor: pointer;\n",
              "    display: none;\n",
              "    fill: #1967D2;\n",
              "    height: 32px;\n",
              "    padding: 0 0 0 0;\n",
              "    width: 32px;\n",
              "  }\n",
              "\n",
              "  .colab-df-quickchart:hover {\n",
              "    background-color: #E2EBFA;\n",
              "    box-shadow: 0px 1px 2px rgba(60, 64, 67, 0.3), 0px 1px 3px 1px rgba(60, 64, 67, 0.15);\n",
              "    fill: #174EA6;\n",
              "  }\n",
              "\n",
              "  [theme=dark] .colab-df-quickchart {\n",
              "    background-color: #3B4455;\n",
              "    fill: #D2E3FC;\n",
              "  }\n",
              "\n",
              "  [theme=dark] .colab-df-quickchart:hover {\n",
              "    background-color: #434B5C;\n",
              "    box-shadow: 0px 1px 3px 1px rgba(0, 0, 0, 0.15);\n",
              "    filter: drop-shadow(0px 1px 2px rgba(0, 0, 0, 0.3));\n",
              "    fill: #FFFFFF;\n",
              "  }\n",
              "</style>\n",
              "\n",
              "    <script>\n",
              "      async function quickchart(key) {\n",
              "        const containerElement = document.querySelector('#' + key);\n",
              "        const charts = await google.colab.kernel.invokeFunction(\n",
              "            'suggestCharts', [key], {});\n",
              "      }\n",
              "    </script>\n",
              "\n",
              "      <script>\n",
              "\n",
              "function displayQuickchartButton(domScope) {\n",
              "  let quickchartButtonEl =\n",
              "    domScope.querySelector('#df-f10ff2c0-de3f-43fa-bdd2-32f1a8aec158 button.colab-df-quickchart');\n",
              "  quickchartButtonEl.style.display =\n",
              "    google.colab.kernel.accessAllowed ? 'block' : 'none';\n",
              "}\n",
              "\n",
              "        displayQuickchartButton(document);\n",
              "      </script>\n",
              "      <style>\n",
              "    .colab-df-container {\n",
              "      display:flex;\n",
              "      flex-wrap:wrap;\n",
              "      gap: 12px;\n",
              "    }\n",
              "\n",
              "    .colab-df-convert {\n",
              "      background-color: #E8F0FE;\n",
              "      border: none;\n",
              "      border-radius: 50%;\n",
              "      cursor: pointer;\n",
              "      display: none;\n",
              "      fill: #1967D2;\n",
              "      height: 32px;\n",
              "      padding: 0 0 0 0;\n",
              "      width: 32px;\n",
              "    }\n",
              "\n",
              "    .colab-df-convert:hover {\n",
              "      background-color: #E2EBFA;\n",
              "      box-shadow: 0px 1px 2px rgba(60, 64, 67, 0.3), 0px 1px 3px 1px rgba(60, 64, 67, 0.15);\n",
              "      fill: #174EA6;\n",
              "    }\n",
              "\n",
              "    [theme=dark] .colab-df-convert {\n",
              "      background-color: #3B4455;\n",
              "      fill: #D2E3FC;\n",
              "    }\n",
              "\n",
              "    [theme=dark] .colab-df-convert:hover {\n",
              "      background-color: #434B5C;\n",
              "      box-shadow: 0px 1px 3px 1px rgba(0, 0, 0, 0.15);\n",
              "      filter: drop-shadow(0px 1px 2px rgba(0, 0, 0, 0.3));\n",
              "      fill: #FFFFFF;\n",
              "    }\n",
              "  </style>\n",
              "\n",
              "      <script>\n",
              "        const buttonEl =\n",
              "          document.querySelector('#df-abdf57b3-409c-40b2-9b34-d9d751255a32 button.colab-df-convert');\n",
              "        buttonEl.style.display =\n",
              "          google.colab.kernel.accessAllowed ? 'block' : 'none';\n",
              "\n",
              "        async function convertToInteractive(key) {\n",
              "          const element = document.querySelector('#df-abdf57b3-409c-40b2-9b34-d9d751255a32');\n",
              "          const dataTable =\n",
              "            await google.colab.kernel.invokeFunction('convertToInteractive',\n",
              "                                                     [key], {});\n",
              "          if (!dataTable) return;\n",
              "\n",
              "          const docLinkHtml = 'Like what you see? Visit the ' +\n",
              "            '<a target=\"_blank\" href=https://colab.research.google.com/notebooks/data_table.ipynb>data table notebook</a>'\n",
              "            + ' to learn more about interactive tables.';\n",
              "          element.innerHTML = '';\n",
              "          dataTable['output_type'] = 'display_data';\n",
              "          await google.colab.output.renderOutput(dataTable, element);\n",
              "          const docLink = document.createElement('div');\n",
              "          docLink.innerHTML = docLinkHtml;\n",
              "          element.appendChild(docLink);\n",
              "        }\n",
              "      </script>\n",
              "    </div>\n",
              "  </div>\n"
            ]
          },
          "metadata": {},
          "execution_count": 17
        }
      ]
    },
    {
      "cell_type": "markdown",
      "source": [
        "**Vectorisation**"
      ],
      "metadata": {
        "id": "R35FUw4PJG7k"
      }
    },
    {
      "cell_type": "code",
      "source": [
        "from sklearn.feature_extraction.text import TfidfVectorizer\n",
        "\n",
        "tfidf_vectorizer = TfidfVectorizer(max_features=5000,ngram_range=(2,2))\n",
        "# TF-IDF feature matrix\n",
        "X= tfidf_vectorizer.fit_transform(clean_news['news'])\n",
        "X.shape"
      ],
      "metadata": {
        "colab": {
          "base_uri": "https://localhost:8080/"
        },
        "id": "jmnHYC8hJKyx",
        "outputId": "0e2b5aae-46f7-4627-d37f-ab50fd7576d6"
      },
      "execution_count": null,
      "outputs": [
        {
          "output_type": "execute_result",
          "data": {
            "text/plain": [
              "(44919, 5000)"
            ]
          },
          "metadata": {},
          "execution_count": 18
        }
      ]
    },
    {
      "cell_type": "code",
      "source": [
        "#Getting the target variable\n",
        "y=clean_news['class']"
      ],
      "metadata": {
        "id": "ykCEDPQyJXhJ"
      },
      "execution_count": null,
      "outputs": []
    },
    {
      "cell_type": "markdown",
      "source": [
        "**Checking for balance of the data**"
      ],
      "metadata": {
        "id": "bFSzeAzmJcnP"
      }
    },
    {
      "cell_type": "code",
      "source": [
        "from collections import Counter\n",
        "print(f'Original dataset shape : {Counter(y)}')"
      ],
      "metadata": {
        "colab": {
          "base_uri": "https://localhost:8080/"
        },
        "id": "l9uGt-WnJexl",
        "outputId": "72f59259-b16a-4c80-8b94-0709eb21f8c7"
      },
      "execution_count": null,
      "outputs": [
        {
          "output_type": "stream",
          "name": "stdout",
          "text": [
            "Original dataset shape : Counter({0: 23502, 1: 21417})\n"
          ]
        }
      ]
    },
    {
      "cell_type": "markdown",
      "source": [
        "**Our dataset is nearly a balanced one. So now we will split it into train and test data.**"
      ],
      "metadata": {
        "id": "ye3u_BT048KA"
      }
    },
    {
      "cell_type": "markdown",
      "source": [
        "**RNN**"
      ],
      "metadata": {
        "id": "NmHce3reLXxJ"
      }
    },
    {
      "cell_type": "code",
      "source": [
        "import tensorflow as tf\n",
        "\n",
        "from tensorflow.keras.preprocessing.sequence import pad_sequences\n",
        "from tensorflow.keras.preprocessing.text import one_hot\n",
        "#vocabulary size\n",
        "voc_size=5000"
      ],
      "metadata": {
        "id": "W-fpOdiuLjd4"
      },
      "execution_count": null,
      "outputs": []
    },
    {
      "cell_type": "markdown",
      "source": [
        "**One Hot Representation**"
      ],
      "metadata": {
        "id": "Ef_zMLQ1NGfo"
      }
    },
    {
      "cell_type": "code",
      "source": [
        "#One hot encoding\n",
        "onehot_repr=[one_hot(words,voc_size)for words in corpus]"
      ],
      "metadata": {
        "id": "u3RBM-4dNJs3"
      },
      "execution_count": null,
      "outputs": []
    },
    {
      "cell_type": "markdown",
      "source": [
        "**Padding Embedded Documents**"
      ],
      "metadata": {
        "id": "HJ86ZpVANTb1"
      }
    },
    {
      "cell_type": "code",
      "source": [
        "#Setting sentence length\n",
        "sent_length=300\n",
        "\n",
        "#Padding the sentences\n",
        "embedded_docs=pad_sequences(onehot_repr,padding='pre',maxlen=sent_length)\n",
        "print(embedded_docs)"
      ],
      "metadata": {
        "colab": {
          "base_uri": "https://localhost:8080/"
        },
        "id": "V19NG7-eNXtD",
        "outputId": "10ed3594-bc5b-46a3-e158-cbe058337d6c"
      },
      "execution_count": null,
      "outputs": [
        {
          "output_type": "stream",
          "name": "stdout",
          "text": [
            "[[   0    0    0 ... 4561 1661 1491]\n",
            " [   0    0    0 ... 3403 1235 4422]\n",
            " [   0    0    0 ... 3409  959 2776]\n",
            " ...\n",
            " [2359 3945 1098 ... 2505 1873 4895]\n",
            " [   0    0    0 ... 2965 3049 2144]\n",
            " [   0    0    0 ... 2551  961 4918]]\n"
          ]
        }
      ]
    },
    {
      "cell_type": "code",
      "source": [
        "embedded_docs[1]"
      ],
      "metadata": {
        "colab": {
          "base_uri": "https://localhost:8080/"
        },
        "id": "ms4T7gVyNdDY",
        "outputId": "e2271b13-ce2c-4871-d62c-92f8b867b7ff"
      },
      "execution_count": null,
      "outputs": [
        {
          "output_type": "execute_result",
          "data": {
            "text/plain": [
              "array([   0,    0,    0,    0,    0,    0,    0,    0,    0,    0,    0,\n",
              "          0,    0,    0,    0,    0,    0,    0,    0,    0,    0,    0,\n",
              "          0,    0,    0,    0,    0,    0,    0,    0,    0,    0,    0,\n",
              "          0,    0,    0,    0,    0,    0,    0,    0,    0,    0,    0,\n",
              "          0,    0,    0,    0,    0,    0,    0,    0,    0,    0,    0,\n",
              "          0,    0,    0,    0,    0,    0,    0,    0,    0,    0,    0,\n",
              "          0,    0, 4540, 4725,  142, 3732, 3380, 4486, 2133, 3235, 2515,\n",
              "       4540, 4750, 4725, 4728, 2705, 4919, 3732,  143,  269, 4221, 4486,\n",
              "       1808, 3403, 3845, 4077, 2081, 2055, 2329, 4071, 3253, 1010, 3165,\n",
              "        142, 2101,  334, 4750, 3618, 2897, 3486, 3380, 2456, 3271, 3027,\n",
              "       4895, 1353, 4729, 2785, 4546,  178, 3144,  924, 4782, 1772, 1727,\n",
              "       2286,  856, 1765, 4431, 4492, 4472,  451, 1781, 4486, 3833,  960,\n",
              "       1128, 1808, 3380,  395, 1727, 2204,  269, 4908, 3056, 4054, 2028,\n",
              "       4375, 4930,  434, 4003, 4486, 3977,  299, 1391, 2172, 2635, 3845,\n",
              "       3584, 4935, 2101,  334, 4750,  951, 1248, 3095, 4616, 1808, 4486,\n",
              "       3572, 4540, 4750,  840, 3047,  436, 2120, 4495, 2680, 3813, 4123,\n",
              "       1696, 4012, 4728, 3380, 3253, 2945,  904, 1391, 3403, 3565, 2443,\n",
              "       1691, 1219, 1010, 1994, 3723, 1052, 4789, 4023, 1391, 3403,  457,\n",
              "       1691,  904,  364,  595, 2897, 3618, 3380, 3033, 3253,  391, 4707,\n",
              "       1808, 3486, 3162, 2281, 2501, 3403, 1181, 4321, 4765, 2079, 1248,\n",
              "       2897, 3341, 1903, 2775, 2300, 4725,  715, 2133, 2344,  458,  204,\n",
              "       4486, 2329,  610, 1105, 3162, 4490, 3870, 1223, 2592, 1032, 1478,\n",
              "       1620,  626, 1922, 3113, 3403, 1655, 4566, 3165, 2735, 2501, 1105,\n",
              "       4440, 2329,  626, 1040,  799, 3460, 4601, 1414, 1414, 4815,  943,\n",
              "       2324, 3241, 2869,  389, 1433, 2315, 4750,  840, 1161, 1551, 3914,\n",
              "       3597, 3380, 3341,  414, 2785, 4979, 4789, 2366, 4789, 4979, 1105,\n",
              "       2782, 4206, 3015, 3723, 4486, 4321, 1659, 2750, 1132, 1910, 1037,\n",
              "       3403, 1235, 4422], dtype=int32)"
            ]
          },
          "metadata": {},
          "execution_count": 24
        }
      ]
    },
    {
      "cell_type": "markdown",
      "source": [
        "**Creating Model**"
      ],
      "metadata": {
        "id": "KpkzrMHKNmuo"
      }
    },
    {
      "cell_type": "code",
      "source": [
        "model = tf.keras.Sequential([\n",
        "    tf.keras.layers.Embedding(voc_size, 128),\n",
        "    tf.keras.layers.Bidirectional(tf.keras.layers.LSTM(64,  return_sequences=True)),\n",
        "    tf.keras.layers.Bidirectional(tf.keras.layers.LSTM(16)),\n",
        "    tf.keras.layers.Dense(64, activation='relu'),\n",
        "    tf.keras.layers.Dropout(0.5),\n",
        "    tf.keras.layers.Dense(1)\n",
        "])\n",
        "\n",
        "model.compile(loss='binary_crossentropy',optimizer='adam',metrics=['accuracy'])\n",
        "model.summary()"
      ],
      "metadata": {
        "id": "WvfZDEDiLZ3t",
        "colab": {
          "base_uri": "https://localhost:8080/"
        },
        "outputId": "46412543-9e9d-4e81-c5ac-aabdcf431b27"
      },
      "execution_count": null,
      "outputs": [
        {
          "output_type": "stream",
          "name": "stdout",
          "text": [
            "Model: \"sequential\"\n",
            "_________________________________________________________________\n",
            " Layer (type)                Output Shape              Param #   \n",
            "=================================================================\n",
            " embedding (Embedding)       (None, None, 128)         640000    \n",
            "                                                                 \n",
            " bidirectional (Bidirectiona  (None, None, 128)        98816     \n",
            " l)                                                              \n",
            "                                                                 \n",
            " bidirectional_1 (Bidirectio  (None, 32)               18560     \n",
            " nal)                                                            \n",
            "                                                                 \n",
            " dense (Dense)               (None, 64)                2112      \n",
            "                                                                 \n",
            " dropout (Dropout)           (None, 64)                0         \n",
            "                                                                 \n",
            " dense_1 (Dense)             (None, 1)                 65        \n",
            "                                                                 \n",
            "=================================================================\n",
            "Total params: 759,553\n",
            "Trainable params: 759,553\n",
            "Non-trainable params: 0\n",
            "_________________________________________________________________\n"
          ]
        }
      ]
    },
    {
      "cell_type": "markdown",
      "source": [
        "**Fitting the RNN model**"
      ],
      "metadata": {
        "id": "OQSUNJEkN0_y"
      }
    },
    {
      "cell_type": "code",
      "source": [
        "import numpy as np\n",
        "\n",
        "# Converting the X and y as array\n",
        "X_final=np.array(embedded_docs)\n",
        "y_final=np.array(y)\n",
        "\n",
        "#Check shape of X and y final\n",
        "X_final.shape,y_final.shape"
      ],
      "metadata": {
        "colab": {
          "base_uri": "https://localhost:8080/"
        },
        "id": "uaC3t0uAN6G7",
        "outputId": "ca43c634-cebe-4d63-e227-40f4e465267d"
      },
      "execution_count": null,
      "outputs": [
        {
          "output_type": "execute_result",
          "data": {
            "text/plain": [
              "((44919, 300), (44919,))"
            ]
          },
          "metadata": {},
          "execution_count": 25
        }
      ]
    },
    {
      "cell_type": "markdown",
      "source": [
        "**Training and Validation**"
      ],
      "metadata": {
        "id": "0fnp_-HTMI5N"
      }
    },
    {
      "cell_type": "code",
      "source": [
        "from sklearn.model_selection import train_test_split\n",
        "\n",
        "# Train test split of the X and y final\n",
        "X_train, X_test, y_train, y_test = train_test_split(X_final, y_final, test_size=0.33, random_state=42)\n",
        "\n",
        "print(\"Length of X-train: \", len(X_train))\n",
        "print(\"Length of y-train: \", len(y_train))\n",
        "print(\"Length of X-test: \", len(X_test))\n",
        "print(\"Length of y-test: \", len(y_test))\n",
        "\n",
        "# Fitting with 10 epochs and 64 batch size\n",
        "model.fit(X_train,y_train,validation_data=(X_test,y_test),epochs=10,batch_size=32)"
      ],
      "metadata": {
        "id": "58G2LGwSOR4I",
        "colab": {
          "base_uri": "https://localhost:8080/"
        },
        "outputId": "5e3c14be-ae88-4bea-d30c-8ac9fd98a0e6"
      },
      "execution_count": null,
      "outputs": [
        {
          "output_type": "stream",
          "name": "stdout",
          "text": [
            "Length of X-train:  30095\n",
            "Length of y-train:  30095\n",
            "Length of X-test:  14824\n",
            "Length of y-test:  14824\n",
            "Epoch 1/10\n",
            "941/941 [==============================] - 47s 50ms/step - loss: 0.0402 - accuracy: 0.9951 - val_loss: 0.3289 - val_accuracy: 0.9606\n",
            "Epoch 2/10\n",
            "941/941 [==============================] - 43s 46ms/step - loss: 0.0388 - accuracy: 0.9958 - val_loss: 0.1277 - val_accuracy: 0.9831\n",
            "Epoch 3/10\n",
            "941/941 [==============================] - 48s 51ms/step - loss: 0.0988 - accuracy: 0.9840 - val_loss: 0.1526 - val_accuracy: 0.9745\n",
            "Epoch 4/10\n",
            "941/941 [==============================] - 44s 46ms/step - loss: 0.0838 - accuracy: 0.9801 - val_loss: 0.1225 - val_accuracy: 0.9832\n",
            "Epoch 5/10\n",
            "941/941 [==============================] - 43s 46ms/step - loss: 0.0275 - accuracy: 0.9960 - val_loss: 0.1014 - val_accuracy: 0.9881\n",
            "Epoch 6/10\n",
            "941/941 [==============================] - 47s 50ms/step - loss: 0.0213 - accuracy: 0.9975 - val_loss: 0.1117 - val_accuracy: 0.9880\n",
            "Epoch 7/10\n",
            "941/941 [==============================] - 44s 47ms/step - loss: 0.0467 - accuracy: 0.9958 - val_loss: 2.0422 - val_accuracy: 0.8413\n",
            "Epoch 8/10\n",
            "941/941 [==============================] - 45s 48ms/step - loss: 0.0808 - accuracy: 0.9891 - val_loss: 0.1316 - val_accuracy: 0.9862\n",
            "Epoch 9/10\n",
            "941/941 [==============================] - 47s 50ms/step - loss: 0.0350 - accuracy: 0.9964 - val_loss: 0.1369 - val_accuracy: 0.9839\n",
            "Epoch 10/10\n",
            "941/941 [==============================] - 44s 46ms/step - loss: 0.0340 - accuracy: 0.9954 - val_loss: 0.0982 - val_accuracy: 0.9892\n"
          ]
        },
        {
          "output_type": "execute_result",
          "data": {
            "text/plain": [
              "<keras.callbacks.History at 0x7985f703bc70>"
            ]
          },
          "metadata": {},
          "execution_count": 54
        }
      ]
    },
    {
      "cell_type": "markdown",
      "source": [
        "Length of X-train:  30095,\n",
        "Length of y-train:  30095,\n",
        "Length of X-test:  14824,\n",
        "Length of y-test:  14824"
      ],
      "metadata": {
        "id": "EC3yre4y4kCQ"
      }
    },
    {
      "cell_type": "markdown",
      "source": [
        "**Saving the model**"
      ],
      "metadata": {
        "id": "JNYAAyFntEbi"
      }
    },
    {
      "cell_type": "code",
      "source": [
        "model.save('/content/drive/MyDrive/ML Project/RNN_02.h5')"
      ],
      "metadata": {
        "id": "jwofN5EGtHvh"
      },
      "execution_count": null,
      "outputs": []
    },
    {
      "cell_type": "markdown",
      "source": [
        "**Evaluation**"
      ],
      "metadata": {
        "id": "Sa4KiBSDtw9B"
      }
    },
    {
      "cell_type": "code",
      "source": [
        "model.evaluate(X_test, y_test)"
      ],
      "metadata": {
        "id": "u9yRCCcftzfs",
        "colab": {
          "base_uri": "https://localhost:8080/"
        },
        "outputId": "ba3be0a8-fa1b-47fa-e12c-d53872a4bf70"
      },
      "execution_count": null,
      "outputs": [
        {
          "output_type": "stream",
          "name": "stdout",
          "text": [
            "464/464 [==============================] - 7s 15ms/step - loss: 0.0982 - accuracy: 0.9892\n"
          ]
        },
        {
          "output_type": "execute_result",
          "data": {
            "text/plain": [
              "[0.09817932546138763, 0.9892066717147827]"
            ]
          },
          "metadata": {},
          "execution_count": 56
        }
      ]
    },
    {
      "cell_type": "markdown",
      "source": [
        "**Loading model**"
      ],
      "metadata": {
        "id": "U9OCxoV2p-DI"
      }
    },
    {
      "cell_type": "code",
      "source": [
        "# load the model from disk\n",
        "new_model = tf.keras.models.load_model('/content/drive/MyDrive/ML Project/RNN_02.h5')\n",
        "\n",
        "# Show the model architecture\n",
        "new_model.summary()"
      ],
      "metadata": {
        "id": "O89cEMSdarRm",
        "colab": {
          "base_uri": "https://localhost:8080/"
        },
        "outputId": "4a7eb390-0150-42ba-d61a-4529fce68b37"
      },
      "execution_count": null,
      "outputs": [
        {
          "output_type": "stream",
          "name": "stdout",
          "text": [
            "Model: \"sequential\"\n",
            "_________________________________________________________________\n",
            " Layer (type)                Output Shape              Param #   \n",
            "=================================================================\n",
            " embedding (Embedding)       (None, None, 128)         640000    \n",
            "                                                                 \n",
            " bidirectional (Bidirectiona  (None, None, 128)        98816     \n",
            " l)                                                              \n",
            "                                                                 \n",
            " bidirectional_1 (Bidirectio  (None, 32)               18560     \n",
            " nal)                                                            \n",
            "                                                                 \n",
            " dense (Dense)               (None, 64)                2112      \n",
            "                                                                 \n",
            " dropout (Dropout)           (None, 64)                0         \n",
            "                                                                 \n",
            " dense_1 (Dense)             (None, 1)                 65        \n",
            "                                                                 \n",
            "=================================================================\n",
            "Total params: 759,553\n",
            "Trainable params: 759,553\n",
            "Non-trainable params: 0\n",
            "_________________________________________________________________\n"
          ]
        }
      ]
    },
    {
      "cell_type": "code",
      "source": [
        "# Recreate the exact same model, including its weights and the optimizer\n",
        "new_model = tf.keras.models.load_model('/content/drive/MyDrive/ML Project/Copy of RNN_02.h5')\n",
        "\n",
        "# Show the model architecture\n",
        "new_model.summary()"
      ],
      "metadata": {
        "id": "q_rScwoLyUNA",
        "colab": {
          "base_uri": "https://localhost:8080/"
        },
        "outputId": "b96853be-7d26-4d9c-debb-cd26124d9ef8"
      },
      "execution_count": null,
      "outputs": [
        {
          "output_type": "stream",
          "name": "stdout",
          "text": [
            "Model: \"sequential_1\"\n",
            "_________________________________________________________________\n",
            " Layer (type)                Output Shape              Param #   \n",
            "=================================================================\n",
            " embedding_1 (Embedding)     (None, None, 128)         640000    \n",
            "                                                                 \n",
            " bidirectional_2 (Bidirectio  (None, None, 128)        98816     \n",
            " nal)                                                            \n",
            "                                                                 \n",
            " bidirectional_3 (Bidirectio  (None, 32)               18560     \n",
            " nal)                                                            \n",
            "                                                                 \n",
            " dense_2 (Dense)             (None, 64)                2112      \n",
            "                                                                 \n",
            " dropout_1 (Dropout)         (None, 64)                0         \n",
            "                                                                 \n",
            " dense_3 (Dense)             (None, 1)                 65        \n",
            "                                                                 \n",
            "=================================================================\n",
            "Total params: 759,553\n",
            "Trainable params: 759,553\n",
            "Non-trainable params: 0\n",
            "_________________________________________________________________\n"
          ]
        }
      ]
    },
    {
      "cell_type": "code",
      "source": [
        "def fake_news_det(news):\n",
        "    input_data = [news]\n",
        "    vectorized_input_data = tfidf_vectorizer.transform(input_data)\n",
        "    prediction = new_model.predict(vectorized_input_data)\n",
        "    print(prediction)"
      ],
      "metadata": {
        "id": "uvANx9hIFoQq"
      },
      "execution_count": null,
      "outputs": []
    },
    {
      "cell_type": "code",
      "source": [
        "val = fake_news_det('AP  President Donald Trump has told congressional leaders that his hard-line immigration priorities must be enacted in exchange for extending protection from deportation to hundreds of thousands of young immigrants, many of whom were brought to the U.S. illegally as children.Trump s list of demands included overhauling the country s green-card system, a crackdown on unaccompanied minors entering the country, and building his promised wall along the southern border.Many were policies Democrats have said explicitly are off the table and threaten to derail ongoing negotiations over legislation protecting young immigrants known as  Dreamers.  They had been given a reprieve from deportation and the ability to work legally in the country under President Barack Obama s Deferred Action for Childhood Arrivals, or DACA, program, which Trump ended last month.In a letter to House and Senate leaders released by the White House Sunday, Trump said the priorities were the product of a  a bottom-up review of all immigration policies  that he had ordered  to determine what legislative reforms are essential for America s economic and national security. These findings outline reforms that must be included as part of any legislation addressing the status of Deferred Action for Childhood Arrivals (DACA) recipients,  he wrote, adding that:  Without these reforms, illegal immigration and chain migration, which severely and unfairly burden American workers and taxpayers, will continue without end. Trump announced last month that he was ending the DACA program, but he gave Congress six months to come up with a legislative fix before recipients began to lose their status. Trump suggested at the time that he was eager for a deal, telling reporters,  I have a love for these people and hopefully now Congress will be able to help them and do it properly. He d also tweeted that if Congress was unwilling to find a fix, he would  revisit this issue!  in six months.  Congress now has 6 months to legalize DACA (something the Obama Administration was unable to do). If they cant, I will revisit this issue!  Donald J. Trump (@realDonaldTrump) September 6, 2017')"
      ],
      "metadata": {
        "colab": {
          "base_uri": "https://localhost:8080/"
        },
        "id": "3l0yhue9KPdn",
        "outputId": "0d14509b-c3a1-4934-ba5c-b835dd564482"
      },
      "execution_count": null,
      "outputs": [
        {
          "output_type": "stream",
          "name": "stdout",
          "text": [
            "1/1 [==============================] - 1s 1s/step\n",
            "[[-9.114652]]\n"
          ]
        }
      ]
    },
    {
      "cell_type": "code",
      "source": [
        "if val == 0:\n",
        "  print('Real')\n",
        "else:\n",
        "  print('Fake')"
      ],
      "metadata": {
        "colab": {
          "base_uri": "https://localhost:8080/"
        },
        "id": "eWlFqUKJKeIG",
        "outputId": "f3cfa380-ae37-4993-bbcc-1035aeee8a36"
      },
      "execution_count": null,
      "outputs": [
        {
          "output_type": "stream",
          "name": "stdout",
          "text": [
            "Fake\n"
          ]
        }
      ]
    },
    {
      "cell_type": "markdown",
      "source": [
        "**Checking model's accuracy score, precision score and recall score**"
      ],
      "metadata": {
        "id": "tO3UPip6qDFZ"
      }
    },
    {
      "cell_type": "code",
      "source": [
        "pred = model.predict(X_test)\n",
        "\n",
        "binary_predictions = []\n",
        "\n",
        "for i in pred:\n",
        "    if i >= 0.5:\n",
        "        binary_predictions.append(1)\n",
        "    else:\n",
        "        binary_predictions.append(0)"
      ],
      "metadata": {
        "id": "a-WD_gg4n9fX",
        "colab": {
          "base_uri": "https://localhost:8080/"
        },
        "outputId": "d864f3a6-0efd-434c-bf7f-4e115ab55389"
      },
      "execution_count": null,
      "outputs": [
        {
          "output_type": "stream",
          "name": "stdout",
          "text": [
            "464/464 [==============================] - 9s 16ms/step\n"
          ]
        }
      ]
    },
    {
      "cell_type": "code",
      "source": [
        "from sklearn.metrics import accuracy_score\n",
        "from sklearn.metrics import precision_score\n",
        "from sklearn.metrics import recall_score\n",
        "from sklearn.metrics import f1_score\n",
        "\n",
        "print('Accuracy on testing set:', accuracy_score(binary_predictions, y_test))\n",
        "print('Precision on testing set:', precision_score(binary_predictions, y_test))\n",
        "print('Recall on testing set:', recall_score(binary_predictions, y_test))\n",
        "print('F1_score on testing set:', f1_score(binary_predictions, y_test))"
      ],
      "metadata": {
        "id": "oKM_uhCvpZp6",
        "colab": {
          "base_uri": "https://localhost:8080/"
        },
        "outputId": "99786e38-4edf-4661-d636-d204abea8214"
      },
      "execution_count": null,
      "outputs": [
        {
          "output_type": "stream",
          "name": "stdout",
          "text": [
            "Accuracy on testing set: 0.9892066918510524\n",
            "Precision on testing set: 0.9873237430565447\n",
            "Recall on testing set: 0.9898614879337427\n",
            "F1_score on testing set: 0.988590986879635\n"
          ]
        }
      ]
    }
  ],
  "metadata": {
    "colab": {
      "provenance": [],
      "gpuType": "T4"
    },
    "kernelspec": {
      "display_name": "Python 3",
      "name": "python3"
    },
    "language_info": {
      "name": "python"
    },
    "accelerator": "GPU"
  },
  "nbformat": 4,
  "nbformat_minor": 0
}